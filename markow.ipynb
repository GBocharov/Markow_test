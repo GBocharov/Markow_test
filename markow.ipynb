{
  "metadata": {
    "kernelspec": {
      "name": "python",
      "display_name": "Python (Pyodide)",
      "language": "python"
    },
    "language_info": {
      "codemirror_mode": {
        "name": "python",
        "version": 3
      },
      "file_extension": ".py",
      "mimetype": "text/x-python",
      "name": "python",
      "nbconvert_exporter": "python",
      "pygments_lexer": "ipython3",
      "version": "3.8"
    }
  },
  "nbformat_minor": 4,
  "nbformat": 4,
  "cells": [
    {
      "cell_type": "code",
      "source": "import random\nclass Node:\n    def __init__(self, name):\n        self.name = name\n        self.edges = []\n\n    def add_edge(self, weight, next_node):\n        self.edges.append((weight, next_node))\n\n    def __str__(self):\n        edges_str = \", \".join([f\"({weight}, {next_node.name})\" for weight, next_node in self.edges])\n        return f\"{self.name}: [{edges_str}]\"\n\nclass Graph:\n    def __init__(self):\n        self.nodes = {}\n\n    def add_node(self, name):\n        if name not in self.nodes:\n            self.nodes[name] = Node(name)\n\n    def add_edge(self, from_node, to_node, weight):\n        if from_node in self.nodes and to_node in self.nodes:\n            self.nodes[from_node].add_edge(weight, self.nodes[to_node])\n\n    def print_graph(self):\n        for node in self.nodes.values():\n            print(node)\n\n    def wandering(self, vertex, steps, res:dict):\n        current = self.nodes[vertex]\n        while steps:\n            res[current.name] += 1\n            probabilities = [p[0] for p in current.edges]\n            variants = [p[1] for p in current.edges]\n\n            if probabilities:\n                selected_event = random.choices(range(len(probabilities)), weights=probabilities, k=1)[0]\n                current = variants[selected_event]\n            steps -= 1\n\n    @classmethod\n    def from_adjacency_matrix(cls, adjacency_matrix):\n        graph = cls()\n        for i, row in enumerate(adjacency_matrix):\n            node_name = chr(ord('A') + i)\n            graph.add_node(node_name)\n            for j, weight in enumerate(row):\n\n                graph.add_node(chr(ord('A') + j))\n                if weight > 0:\n                    graph.add_edge(node_name, chr(ord('A') + j), weight)\n        return graph\n",
      "metadata": {
        "trusted": true
      },
      "outputs": [],
      "execution_count": 1
    },
    {
      "cell_type": "code",
      "source": "\n# Пример использования\nadjacency_matrix = [\n    [0, 0.4, 0.5, 0, 0, 0.1, 0],\n    [0.1, 0.4, 0.4, 0, 0, 0.1, 0],\n    [0.3, 0.2, 0.2, 0, 0, 0.3, 0],\n    [0, 0, 0, 0.4, 0, 0, 0.6],\n    [0.4, 0, 0, 0.2, 0.2, 0.1, 0.1],\n    [0.1, 0.5, 0.2, 0, 0, 0.2, 0],\n    [0, 0, 0, 0.2, 0, 0, 0.8]\n]\ngraph = Graph.from_adjacency_matrix(adjacency_matrix)\n\nnum_dict = {1 : 'A', 2 : 'B', 3 : 'C', 4 : 'D', 5 : 'E', 6 : 'F', 7 : 'G'}\nclusters = [[1,2,3,6], [4, 7]]\ntests = [50, 100, 1000, 100000]\n\nfor i, cluster in enumerate(clusters, start=1):\n    print(f\"номер класса: {i} \\n класс = {cluster}\")\n    for n, test_size in enumerate(tests, start=1):\n        start = random.choice(cluster)\n        start = num_dict[start]\n        print(f\"Испытание номер {n} Количество шагов {test_size} Стартовая вершина {start}\")\n\n        final_vector = {chr(i): 0 for i in range(ord('A'), ord('G') + 1)}\n\n        graph.wandering(start, test_size, final_vector)\n\n        total_sum = sum(final_vector.values())\n        for key, value in final_vector.items():\n            final_vector[key] = value / total_sum\n        print(f\"vector = {final_vector}\")",
      "metadata": {
        "trusted": true
      },
      "outputs": [
        {
          "name": "stdout",
          "text": "номер класса: 1 \n класс = [1, 2, 3, 6]\nИспытание номер 1 Количество шагов 50 Стартовая вершина A\nvector = {'A': 0.12, 'B': 0.3, 'C': 0.38, 'D': 0.0, 'E': 0.0, 'F': 0.2, 'G': 0.0}\nИспытание номер 2 Количество шагов 100 Стартовая вершина F\nvector = {'A': 0.12, 'B': 0.35, 'C': 0.32, 'D': 0.0, 'E': 0.0, 'F': 0.21, 'G': 0.0}\nИспытание номер 3 Количество шагов 1000 Стартовая вершина F\nvector = {'A': 0.136, 'B': 0.376, 'C': 0.307, 'D': 0.0, 'E': 0.0, 'F': 0.181, 'G': 0.0}\nИспытание номер 4 Количество шагов 100000 Стартовая вершина B\nvector = {'A': 0.14838, 'B': 0.35594, 'C': 0.31568, 'D': 0.0, 'E': 0.0, 'F': 0.18, 'G': 0.0}\nномер класса: 2 \n класс = [4, 7]\nИспытание номер 1 Количество шагов 50 Стартовая вершина D\nvector = {'A': 0.0, 'B': 0.0, 'C': 0.0, 'D': 0.2, 'E': 0.0, 'F': 0.0, 'G': 0.8}\nИспытание номер 2 Количество шагов 100 Стартовая вершина G\nvector = {'A': 0.0, 'B': 0.0, 'C': 0.0, 'D': 0.26, 'E': 0.0, 'F': 0.0, 'G': 0.74}\nИспытание номер 3 Количество шагов 1000 Стартовая вершина D\nvector = {'A': 0.0, 'B': 0.0, 'C': 0.0, 'D': 0.233, 'E': 0.0, 'F': 0.0, 'G': 0.767}\nИспытание номер 4 Количество шагов 100000 Стартовая вершина G\nvector = {'A': 0.0, 'B': 0.0, 'C': 0.0, 'D': 0.25119, 'E': 0.0, 'F': 0.0, 'G': 0.74881}\n",
          "output_type": "stream"
        }
      ],
      "execution_count": 3
    },
    {
      "cell_type": "code",
      "source": "",
      "metadata": {
        "trusted": true
      },
      "outputs": [],
      "execution_count": null
    }
  ]
}